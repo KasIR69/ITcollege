{
 "cells": [
  {
   "cell_type": "markdown",
   "metadata": {},
   "source": [
    "I didn't know about the ability to delete variables before"
   ]
  },
  {
   "cell_type": "code",
   "execution_count": 3,
   "metadata": {},
   "outputs": [
    {
     "name": "stdout",
     "output_type": "stream",
     "text": [
      "69\n"
     ]
    },
    {
     "ename": "NameError",
     "evalue": "name 'c_a_b' is not defined",
     "output_type": "error",
     "traceback": [
      "\u001b[1;31m---------------------------------------------------------------------------\u001b[0m",
      "\u001b[1;31mNameError\u001b[0m                                 Traceback (most recent call last)",
      "Cell \u001b[1;32mIn[3], line 4\u001b[0m\n\u001b[0;32m      2\u001b[0m \u001b[38;5;28mprint\u001b[39m(c_a_b)\n\u001b[0;32m      3\u001b[0m \u001b[38;5;28;01mdel\u001b[39;00m c_a_b\n\u001b[1;32m----> 4\u001b[0m \u001b[38;5;28mprint\u001b[39m(\u001b[43mc_a_b\u001b[49m)\n",
      "\u001b[1;31mNameError\u001b[0m: name 'c_a_b' is not defined"
     ]
    }
   ],
   "source": [
    "c_a_b = 69\n",
    "print(c_a_b)\n",
    "del c_a_b\n",
    "print(c_a_b)"
   ]
  },
  {
   "cell_type": "markdown",
   "metadata": {},
   "source": [
    "I didn't know before that variables can be named with underscore symbol"
   ]
  },
  {
   "cell_type": "code",
   "execution_count": null,
   "metadata": {},
   "outputs": [
    {
     "name": "stdout",
     "output_type": "stream",
     "text": [
      "69\n"
     ]
    }
   ],
   "source": [
    "_ = 69\n",
    "print(_)\n"
   ]
  },
  {
   "cell_type": "markdown",
   "metadata": {},
   "source": [
    "I didn't know before that variables can be written as strings and it won't cause an error"
   ]
  },
  {
   "cell_type": "code",
   "execution_count": null,
   "metadata": {},
   "outputs": [
    {
     "name": "stdout",
     "output_type": "stream",
     "text": [
      "{'a': 2, 'b': 3}\n"
     ]
    }
   ],
   "source": [
    "dd = {\"a\": 1, \"a\": 2, \"b\": 3}\n",
    "dd\n",
    "\n",
    "print(dd)"
   ]
  },
  {
   "cell_type": "markdown",
   "metadata": {},
   "source": [
    "I didn't know about the set data type before"
   ]
  },
  {
   "cell_type": "code",
   "execution_count": 12,
   "metadata": {},
   "outputs": [
    {
     "name": "stdout",
     "output_type": "stream",
     "text": [
      "[69, 96, 69, 96]\n",
      "{96, 69}\n",
      "<class 'set'>\n"
     ]
    }
   ],
   "source": [
    "l = [69, 96, 69, 96]\n",
    "s = set(l)\n",
    "print(l, s, type(s), sep=\"\\n\")\n"
   ]
  },
  {
   "cell_type": "markdown",
   "metadata": {},
   "source": [
    "Learned the built-in function __hash__"
   ]
  },
  {
   "cell_type": "code",
   "execution_count": 13,
   "metadata": {},
   "outputs": [
    {
     "name": "stdout",
     "output_type": "stream",
     "text": [
      "<method-wrapper '__hash__' of int object at 0x00007FFC659EE788>\n",
      "123\n"
     ]
    }
   ],
   "source": [
    "class MyClass:\n",
    "    def __hash__(self):\n",
    "        return 123  # Завжди повертає фіксоване значення\n",
    "obj = MyClass()\n",
    "obj2 = 32\n",
    "print(obj2.__hash__)\n",
    "print(hash(obj))  # 123\n"
   ]
  },
  {
   "cell_type": "markdown",
   "metadata": {},
   "source": [
    "## I didn't understand why it worked, because I didn't have a d2 set defined"
   ]
  },
  {
   "cell_type": "code",
   "execution_count": 17,
   "metadata": {},
   "outputs": [
    {
     "name": "stdout",
     "output_type": "stream",
     "text": [
      "По ключу a буде виведено:  1\n",
      "По ключу b буде виведено:  1\n",
      "По ключу c буде виведено:  [1, 2]\n"
     ]
    }
   ],
   "source": [
    "for i in d2.keys():\n",
    "    print(f\"По ключу {i} буде виведено: \", d2[i])"
   ]
  },
  {
   "cell_type": "markdown",
   "metadata": {},
   "source": [
    "added other errors, and used a dictionary to record errors and their explanations"
   ]
  },
  {
   "cell_type": "code",
   "execution_count": 20,
   "metadata": {},
   "outputs": [
    {
     "name": "stdout",
     "output_type": "stream",
     "text": [
      "Calling function: add_error\n",
      "Error occurred TypeError: can only concatenate str (not \"int\") to str.\n"
     ]
    }
   ],
   "source": [
    "from random import choice\n",
    "\n",
    "def div_error():\n",
    "    return 2 / 0\n",
    "\n",
    "def add_error():\n",
    "    return \"1\" + 1\n",
    "\n",
    "def int_error():\n",
    "    return 1 + \"1\"\n",
    "\n",
    "def ind_error():\n",
    "    i = [1, 2]\n",
    "    return i[5]\n",
    "\n",
    "error_functions = {\n",
    "    \"div_error\": div_error,\n",
    "    \"add_error\": add_error,\n",
    "    \"int_error\": int_error,\n",
    "    \"ind_error\": ind_error,\n",
    "}\n",
    "\n",
    "try:\n",
    "    func_name, func = choice(list(error_functions.items()))\n",
    "    print(f\"Calling function: {func_name}\")\n",
    "    func()\n",
    "except (ZeroDivisionError, TypeError, IndexError) as e:\n",
    "    print(f\"Error occurred {type(e).__name__}: {e}.\")\n"
   ]
  }
 ],
 "metadata": {
  "kernelspec": {
   "display_name": "Python 3",
   "language": "python",
   "name": "python3"
  },
  "language_info": {
   "codemirror_mode": {
    "name": "ipython",
    "version": 3
   },
   "file_extension": ".py",
   "mimetype": "text/x-python",
   "name": "python",
   "nbconvert_exporter": "python",
   "pygments_lexer": "ipython3",
   "version": "3.13.0"
  }
 },
 "nbformat": 4,
 "nbformat_minor": 2
}
