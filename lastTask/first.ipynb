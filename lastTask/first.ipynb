{
 "cells": [
  {
   "cell_type": "markdown",
   "metadata": {},
   "source": [
    "### The homework function has been slightly modified to allow you to set several values for output at once"
   ]
  },
  {
   "cell_type": "code",
   "execution_count": 25,
   "metadata": {},
   "outputs": [],
   "source": [
    "\n",
    "def homework(*messages):\n",
    "    print(\" >> \", \" \".join(str(message) for message in messages))\n",
    "import numpy as np\n",
    "import os"
   ]
  },
  {
   "cell_type": "code",
   "execution_count": null,
   "metadata": {},
   "outputs": [
    {
     "name": "stdout",
     "output_type": "stream",
     "text": [
      "Отриманий масив має вигляд:\n",
      "array([[ 3,  8,  9],\n",
      "       [ 1, -7,  0],\n",
      "       [ 4, 12,  4]], dtype=int8)\n",
      "Отриманий масив має вигляд:\n",
      "array([[ 3.4,  8.7,  9.9],\n",
      "       [ 1.1, -7.8, -0.7],\n",
      "       [ 4.1, 12.3,  4.8]], dtype=float16)\n",
      " >>  Згадуючи ООП, що робить функція repr?\n",
      " >>  У чому різниця між масивами A i B?\n"
     ]
    }
   ],
   "source": [
    "lst = [ [3.4, 8.7, 9.9], \n",
    "        [1.1, -7.8, -0.7],\n",
    "        [4.1, 12.3, 4.8] ]\n",
    "\n",
    "A = np.array(lst, dtype=np.int8)\n",
    "print(f\"Отриманий масив має вигляд:\\n{repr(A)}\")\n",
    "B = np.array(lst, dtype=np.float16)\n",
    "print(f\"Отриманий масив має вигляд:\\n{repr(B)}\")\n",
    "\n",
    "homework(\"Згадуючи ООП, що робить функція repr?\")\n",
    "homework(\"The `repr` function provides a detailed string representation of an object, useful for debugging and recreating the object with eval.\")\n",
    "\n",
    "homework(\"У чому різниця між масивами A i B?\")\n",
    "homework(\"The difference between arrays A and B is their data types: A uses `int8`, truncating decimals, while B uses `float16`, preserving decimals but with limited precision.\")\n"
   ]
  },
  {
   "cell_type": "code",
   "execution_count": 16,
   "metadata": {},
   "outputs": [
    {
     "name": "stdout",
     "output_type": "stream",
     "text": [
      "Отриманий масив має вигляд:\n",
      "[('Bohdan', 4) ('Marta', 5) ('Noname', 0)]\n",
      "Доступитись до певної колонки тепер можна за її іменем: [4 5 0]\n",
      " >>  Як вивести всі імена присутні в даному масиві?\n",
      " >>  ['Bohdan' 'Marta' 'Noname']\n"
     ]
    }
   ],
   "source": [
    "dt = np.dtype([('name', np.str_, 20), ('mark', np.int8)])\n",
    "arr = [\n",
    "    (\"Bohdan\", 4), \n",
    "    (\"Marta\", 5),\n",
    "    (\"Noname\", 0)\n",
    "    ]\n",
    "C = np.array(arr, dtype=dt)\n",
    "print(f\"Отриманий масив має вигляд:\\n{C}\")\n",
    "print(f\"Доступитись до певної колонки тепер можна за її іменем: {C['mark']}\")\n",
    "\n",
    "homework(\"Як вивести всі імена присутні в даному масиві?\")\n",
    "homework(C[\"name\"])"
   ]
  },
  {
   "cell_type": "code",
   "execution_count": null,
   "metadata": {},
   "outputs": [
    {
     "name": "stdout",
     "output_type": "stream",
     "text": [
      "Вихідний масив:  [('Bohdan', 4) ('Marta', 5) ('Noname', 0)]\n",
      "Прочитаний з файлу:  [('Bohdan', 4) ('Marta', 5) ('Noname', 0)]\n",
      "Записуємо у CSV файл temp.csv значення: [('Bohdan', 4) ('Marta', 5) ('Noname', 0)]\n",
      "Перевіряємо чи файл temp.csv створився: ['first.ipynb', 'my_mass.npz', 'README.md', 'temp.csv']\n",
      "Читаємо файл за допомогою оператора with та методу readlines\n",
      "Прочитаний файл:\n",
      " ['# name,mark\\n', 'Bohdan,4\\n', 'Marta,5\\n', 'Noname,0\\n'] \n",
      "- як бачимо - 4 елементи є стрічками <class 'str'>.\n",
      "Зчитане значення з файла:\n",
      " [('Bohdan', 4) ('Marta', 5) ('Noname', 0)], як бачимо - 3 елементи це <class 'numpy.void'> \n",
      "- вбудований клас бібліотеки numpy.\n",
      "Доступитись до певного елемента можна наступним чином, наприклад імя першого елементу: Bohdan\n",
      " >>  Створіть додаткове поле group - яке буде вказувавти групу. \n",
      "Допишіть Ваше імя, оцінку та групу до масиву. \n",
      "Збережіть та вичитайте дані у файл.\n",
      "Прочитайте саме Ваше імя з масиву.\n"
     ]
    }
   ],
   "source": [
    "print(\"Вихідний масив: \", C)\n",
    "np.savez(\"my_mass.npz\", my_mass=C)\n",
    "D = np.load(\"my_mass.npz\")\n",
    "print(\"Прочитаний з файлу: \", D[\"my_mass\"])\n",
    "\n",
    "filename = \"temp.csv\"\n",
    "print(f\"Записуємо у CSV файл {filename} значення: {C}\")\n",
    "np.savetxt(filename, C, fmt=\"%s,%d\", header=\"name,mark\", delimiter=\",\")\n",
    "\n",
    "\n",
    "print(f\"Перевіряємо чи файл {filename} створився: {os.listdir()}\")\n",
    "\n",
    "print(\"Читаємо файл за допомогою оператора with та методу readlines\")\n",
    "with open(filename) as f:\n",
    "    D = f.readlines()\n",
    "\n",
    "print(f\"Прочитаний файл:\\n {D} \\n- як бачимо - {len(D)} елементи є стрічками {type(D[0])}.\")\n",
    "\n",
    "D = np.genfromtxt(filename, dtype=dt, delimiter=\",\")\n",
    "print(f\"Зчитане значення з файла:\\n {D}, як бачимо - {D.size} елементи це {type(D[0])} \\n- вбудований клас бібліотеки numpy.\")\n",
    "print(f\"Доступитись до певного елемента можна наступним чином, наприклад імя першого елементу: {D[0]['name']}\")\n",
    "\n",
    "homework(\"\"\"Створіть додаткове поле group - яке буде вказувавти групу. \n",
    "Допишіть Ваше імя, оцінку та групу до масиву. \n",
    "Збережіть та вичитайте дані у файл.\n",
    "Прочитайте саме Ваше імя з масиву.\"\"\")\n"
   ]
  },
  {
   "cell_type": "markdown",
   "metadata": {},
   "source": [
    "## Update the array by adding a new field for the group and me"
   ]
  },
  {
   "cell_type": "code",
   "execution_count": 27,
   "metadata": {},
   "outputs": [
    {
     "name": "stdout",
     "output_type": "stream",
     "text": [
      "Initial array:  [('Bohdan', 4, 'KН-41') ('Marta', 5, 'KН-31') ('Noname', 0, 'KН-21')\n",
      " ('Ihor', 5, 'КН-41')]\n"
     ]
    }
   ],
   "source": [
    "dt = np.dtype([('name', np.str_, 20), ('mark', np.int8), ('group', np.str_, 10)])\n",
    "arr = [\n",
    "    (\"Bohdan\", 4, \"KН-41\"), \n",
    "    (\"Marta\", 5, \"KН-31\"),\n",
    "    (\"Noname\", 0, \"KН-21\"),\n",
    "    (\"Ihor\", 5, \"КН-41\")\n",
    "]\n",
    "\n",
    "C = np.array(arr, dtype=dt)\n",
    "\n",
    "print(\"Initial array: \", C)"
   ]
  },
  {
   "cell_type": "markdown",
   "metadata": {},
   "source": [
    "## Save the array to a file:"
   ]
  },
  {
   "cell_type": "code",
   "execution_count": 28,
   "metadata": {},
   "outputs": [
    {
     "name": "stdout",
     "output_type": "stream",
     "text": [
      "Loaded from the file:  [('Bohdan', 4, 'KН-41') ('Marta', 5, 'KН-31') ('Noname', 0, 'KН-21')\n",
      " ('Ihor', 5, 'КН-41')]\n"
     ]
    }
   ],
   "source": [
    "np.savez(\"my_mass.npz\", my_mass=C)\n",
    "D = np.load(\"my_mass.npz\")\n",
    "print(\"Loaded from the file: \", D[\"my_mass\"])"
   ]
  },
  {
   "cell_type": "markdown",
   "metadata": {},
   "source": [
    "## Write to a CSV file"
   ]
  },
  {
   "cell_type": "code",
   "execution_count": 29,
   "metadata": {},
   "outputs": [
    {
     "name": "stdout",
     "output_type": "stream",
     "text": [
      "Checking if the file temp.csv has been created: ['first.ipynb', 'my_mass.npz', 'README.md', 'temp.csv']\n"
     ]
    }
   ],
   "source": [
    "filename = \"temp.csv\"\n",
    "\n",
    "np.savetxt(filename, C, fmt=\"%s,%d,%s\", header=\"name,mark,group\", delimiter=\",\")\n",
    "print(f\"Checking if the file {filename} has been created: {os.listdir()}\")"
   ]
  },
  {
   "cell_type": "markdown",
   "metadata": {},
   "source": [
    "## Read from a CSV file"
   ]
  },
  {
   "cell_type": "code",
   "execution_count": 30,
   "metadata": {},
   "outputs": [
    {
     "name": "stdout",
     "output_type": "stream",
     "text": [
      "Reading the file using the 'with' operator and the readlines method\n",
      "Read file:\n",
      " ['# name,mark,group\\n', 'Bohdan,4,KН-41\\n', 'Marta,5,KН-31\\n', 'Noname,0,KН-21\\n', 'Ihor,5,КН-41\\n'] \n",
      "- as we can see, 5 elements are strings of type <class 'str'>.\n",
      "Data read from the file:\n",
      " [('Bohdan', 4, 'KН-41') ('Marta', 5, 'KН-31') ('Noname', 0, 'KН-21')\n",
      " ('Ihor', 5, 'КН-41')], as we see, 4 elements, and they are of type <class 'numpy.void'> \n",
      "- a built-in numpy class.\n",
      "To access a specific element, for example, the first name: Bohdan\n"
     ]
    }
   ],
   "source": [
    "print(\"Reading the file using the 'with' operator and the readlines method\")\n",
    "with open(filename) as f:\n",
    "    D = f.readlines()\n",
    "\n",
    "print(f\"Read file:\\n {D} \\n- as we can see, {len(D)} elements are strings of type {type(D[0])}.\")\n",
    "D = np.genfromtxt(filename, dtype=dt, delimiter=\",\", skip_header=1)\n",
    "print(f\"Data read from the file:\\n {D}, as we see, {D.size} elements, and they are of type {type(D[0])} \\n- a built-in numpy class.\")\n",
    "print(f\"To access a specific element, for example, the first name: {D[0]['name']}\")\n"
   ]
  },
  {
   "cell_type": "markdown",
   "metadata": {},
   "source": [
    "## Reading my name"
   ]
  },
  {
   "cell_type": "code",
   "execution_count": 31,
   "metadata": {},
   "outputs": [
    {
     "name": "stdout",
     "output_type": "stream",
     "text": [
      "My name from the array: Ihor\n"
     ]
    }
   ],
   "source": [
    "my_name = D[D['name'] == 'Ihor']['name'][0]\n",
    "print(f\"My name from the array: {my_name}\")"
   ]
  }
 ],
 "metadata": {
  "kernelspec": {
   "display_name": "Python 3",
   "language": "python",
   "name": "python3"
  },
  "language_info": {
   "codemirror_mode": {
    "name": "ipython",
    "version": 3
   },
   "file_extension": ".py",
   "mimetype": "text/x-python",
   "name": "python",
   "nbconvert_exporter": "python",
   "pygments_lexer": "ipython3",
   "version": "3.13.0"
  }
 },
 "nbformat": 4,
 "nbformat_minor": 2
}
