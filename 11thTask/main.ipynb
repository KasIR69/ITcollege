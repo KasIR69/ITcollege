{
 "cells": [
  {
   "cell_type": "code",
   "execution_count": 17,
   "metadata": {},
   "outputs": [],
   "source": [
    "def homework(*messages):\n",
    "    print(\" >> \", \" \".join(str(message) for message in messages))"
   ]
  },
  {
   "cell_type": "code",
   "execution_count": 4,
   "metadata": {},
   "outputs": [
    {
     "name": "stdout",
     "output_type": "stream",
     "text": [
      "[20.1, 20.1, 20.2, 20.4]\n",
      "При множенні на 5 маємо: [20.1, 20.1, 20.2, 20.4, 20.1, 20.1, 20.2, 20.4, 20.1, 20.1, 20.2, 20.4, 20.1, 20.1, 20.2, 20.4, 20.1, 20.1, 20.2, 20.4]\n",
      "\n",
      ">>>>> Чому маємо такий результат? \n",
      "\n",
      "because multiplying a number by a dictionary, list, tuple, or string completes it a specified number of times\n",
      "Тепер отримаємо: [100.5, 100.5, 101.0, 102.0]\n",
      "\n",
      ">>>>> Чому тепер множення успішне? \n",
      "\n",
      "Because we multiplied each of the elements of the list, not the list itself\n",
      "Масив з використанням методів NumPy [20.1 20.1 20.2 20.4]\n",
      "При множенні на 5 отримуємо: [100.5 100.5 101.  102. ]\n"
     ]
    }
   ],
   "source": [
    "import numpy as np\n",
    "temperature = [20.1, 20.1, 20.2, 20.4]\n",
    "print(temperature)\n",
    "\n",
    "t1 = temperature * 5\n",
    "\n",
    "print(f\"При множенні на 5 маємо: {t1}\")\n",
    "homework(\"Чому маємо такий результат?\")\n",
    "homework(\"because multiplying a number by a dictionary, list, tuple, or string completes it a specified number of times\")\n",
    "\n",
    "t1 = [ x*5 for x in temperature] \n",
    "print(f\"Тепер отримаємо: {t1}\") \n",
    "homework(\"Чому тепер множення успішне?\")\n",
    "homework(\"Because we multiplied each of the elements of the list, not the list itself\")\n",
    "\n",
    "t2 = np.array(temperature)\n",
    "print(\"Масив з використанням методів NumPy\", t2)\n",
    "\n",
    "t3 = t2 * 5\n",
    "print(\"При множенні на 5 отримуємо:\", t3)"
   ]
  },
  {
   "cell_type": "code",
   "execution_count": 5,
   "metadata": {},
   "outputs": [
    {
     "name": "stdout",
     "output_type": "stream",
     "text": [
      "Все можна сторити ручну за допомогою методу np.array передавши йому набір значень у вигляді List:\n",
      "[[ 1 -5  3  2  4]] \n",
      "Вектор має розмір (1, 5)\n",
      "[[1]\n",
      " [2]\n",
      " [3]\n",
      " [4]] \n",
      "Вектор має розмір (4, 1)\n"
     ]
    }
   ],
   "source": [
    "print(\"Все можна сторити ручну за допомогою методу np.array передавши йому набір значень у вигляді List:\")\n",
    "vector_row = np.array([[1, -5, 3, 2, 4]])\n",
    "vector_column = np.array([[1], \n",
    "                          [2], \n",
    "                          [3], \n",
    "                          [4]])\n",
    "print(vector_row, \"\\nВектор має розмір\", vector_row.shape)\n",
    "print(vector_column, \"\\nВектор має розмір\", vector_column.shape)"
   ]
  },
  {
   "cell_type": "code",
   "execution_count": 18,
   "metadata": {},
   "outputs": [
    {
     "name": "stdout",
     "output_type": "stream",
     "text": [
      "Масив згенерований простим range: range(0, 5) та методом arange: [0 1 2 3 4]\n",
      " >>  Виведіть весь діапазон чисел.\n",
      " >>  [0, 1, 2, 3, 4, 5, 6, 7, 8, 9, 10, 11, 12, 13, 14, 15, 16, 17, 18, 19, 20, 21, 22, 23, 24, 25, 26, 27, 28, 29, 30, 31, 32, 33, 34, 35, 36, 37, 38, 39, 40, 41, 42, 43, 44, 45, 46, 47, 48, 49, 50, 51, 52, 53, 54, 55, 56, 57, 58, 59, 60, 61, 62, 63, 64, 65, 66, 67, 68, 69, 70, 71, 72, 73, 74, 75, 76, 77, 78, 79, 80, 81, 82, 83, 84, 85, 86, 87, 88, 89, 90, 91, 92, 93, 94, 95, 96, 97, 98, 99]\n",
      "Можемо задавати початок генерації вектора, перший елемент: 5\n",
      " >>  Виведіть останній діапазон в згенерованому масиві.\n",
      " >>  99\n",
      "Те саме але з вбудованою функцією range: range(5, 100)\n",
      "Власне вивід значень: 5\n",
      " >>  Виведіть якесь число з середини діапазону.\n",
      " >>  A number from the middle of the range: 52\n",
      "Будем мати: [ 0.  1.  2.  3.  4.  5.  6.  7.  8.  9. 10.]\n",
      "З кроком 0.5: [0.5 1.  1.5 2.  2.5 3.  3.5]\n",
      "З кроком 0.08: [0.04 0.12 0.2  0.28 0.36 0.44 0.52 0.6  0.68 0.76 0.84 0.92 1.   1.08\n",
      " 1.16 1.24 1.32 1.4  1.48 1.56 1.64 1.72 1.8 ] \n",
      " Зерніть уагу на заокруглення\n",
      " >>  Згенеруйте значення де крок буде мати чотири нулі після коми, яким буде результат?\n",
      " >>  [1.0000e-04 2.0000e-04 3.0000e-04 ... 1.8398e+00 1.8399e+00 1.8400e+00]\n",
      "Після перемноження: [0.1 0.3 0.5 0.7 0.9 1.1 1.3 1.5 1.7 1.9 2.1 2.3 2.5 2.7 2.9 3.1 3.3 3.5\n",
      " 3.7 3.9 4.1 4.3 4.5]\n",
      " >>  Піднесіть отримане число до степеня та поділіть на 0.4 - Яким буде результат?\n",
      " >>  Exponentiation to a second power and division by 0.4: [2.5000e-02 2.2500e-01 6.2500e-01 1.2250e+00 2.0250e+00 3.0250e+00\n",
      " 4.2250e+00 5.6250e+00 7.2250e+00 9.0250e+00 1.1025e+01 1.3225e+01\n",
      " 1.5625e+01 1.8225e+01 2.1025e+01 2.4025e+01 2.7225e+01 3.0625e+01\n",
      " 3.4225e+01 3.8025e+01 4.2025e+01 4.6225e+01 5.0625e+01]\n"
     ]
    }
   ],
   "source": [
    "start = 5\n",
    "size_of_vec = 100\n",
    "x = range(size_of_vec)\n",
    "a = np.arange(size_of_vec)\n",
    "print(f\"Масив згенерований простим range: {x[0:5]} та методом arange: {a[0:5]}\")\n",
    "homework(\"Виведіть весь діапазон чисел.\")\n",
    "homework(list(x))\n",
    "\n",
    "a = np.arange(start, size_of_vec)\n",
    "print(f\"Можемо задавати початок генерації вектора, перший елемент: {a[0]}\")\n",
    "homework(\"Виведіть останній діапазон в згенерованому масиві.\")\n",
    "homework(a[-1])\n",
    "\n",
    "x = range(start, size_of_vec)\n",
    "print(\"Те саме але з вбудованою функцією range:\", x)\n",
    "print(\"Власне вивід значень:\", list(x)[0], )\n",
    "homework(\"Виведіть якесь число з середини діапазону.\")\n",
    "middle_value = list(x)[(len(list(x)) // 2)]\n",
    "homework(\"A number from the middle of the range:\", middle_value)\n",
    "\n",
    "x = np.arange(10.4)\n",
    "print(\"Будем мати:\", x)\n",
    "x = np.arange(0.5, 4, 0.5)\n",
    "print(\"З кроком 0.5:\", x)\n",
    "x = np.arange(0.04, 1.84, 0.08)\n",
    "print(\"З кроком 0.08:\", x, \"\\n Зерніть уагу на заокруглення\")\n",
    "homework(\"Згенеруйте значення де крок буде мати чотири нулі після коми, яким буде результат?\")\n",
    "y = np.arange(0.0001, 1.8401, 0.0001)\n",
    "homework(y)\n",
    "\n",
    "\n",
    "y = x * 2.5\n",
    "print(\"Після перемноження:\", y)\n",
    "homework(\"Піднесіть отримане число до степеня та поділіть на 0.4 - Яким буде результат?\")\n",
    "result = (y ** 2) / 0.4\n",
    "homework(\"Exponentiation to a second power and division by 0.4:\", result)\n"
   ]
  },
  {
   "cell_type": "code",
   "execution_count": 19,
   "metadata": {},
   "outputs": [
    {
     "name": "stdout",
     "output_type": "stream",
     "text": [
      "Згенерували 50 чисел в діапазоні 5.0 до 100.0\n",
      " >>  Виведіть кожне друге число згенерованого діапазону. Тут будее потрібен цикл :)\n",
      " >>  5.0\n",
      " >>  8.877551020408163\n",
      " >>  12.755102040816325\n",
      " >>  16.632653061224488\n",
      " >>  20.51020408163265\n",
      " >>  24.387755102040817\n",
      " >>  28.26530612244898\n",
      " >>  32.14285714285714\n",
      " >>  36.0204081632653\n",
      " >>  39.89795918367347\n",
      " >>  43.775510204081634\n",
      " >>  47.6530612244898\n",
      " >>  51.53061224489796\n",
      " >>  55.40816326530612\n",
      " >>  59.285714285714285\n",
      " >>  63.16326530612245\n",
      " >>  67.0408163265306\n",
      " >>  70.91836734693878\n",
      " >>  74.79591836734694\n",
      " >>  78.6734693877551\n",
      " >>  82.55102040816327\n",
      " >>  86.42857142857143\n",
      " >>  90.3061224489796\n",
      " >>  94.18367346938776\n",
      " >>  98.06122448979592\n",
      "Можна зменшити кількість чисел до 5:\n",
      "[  5.    28.75  52.5   76.25 100.  ]\n",
      " >>  Збільшіть кількість чисел до 100. Виведіть перших та останніх 10.\n",
      " >>  First 10 numbers: [ 5.          5.95959596  6.91919192  7.87878788  8.83838384  9.7979798\n",
      " 10.75757576 11.71717172 12.67676768 13.63636364]\n",
      " >>  Last 10 numbers: [ 91.36363636  92.32323232  93.28282828  94.24242424  95.2020202\n",
      "  96.16161616  97.12121212  98.08080808  99.04040404 100.        ]\n",
      "Як бачимо перше та останнє значення завжди входять у згенерований діапазон. \n",
      "Відповідно при цьому вираховується крок.\n",
      "Це можна змінити, виключивши останнє значення з визначення діапазону.\n",
      "\n",
      "[ 5. 24. 43. 62. 81.]\n",
      " >>  Спробуйте самі порахуавти крок.\n",
      " >>  Calculated step: 23.75\n",
      "Для порівняння, ми можемо визначити крок автоматично, у нашому випадку це 23.75 та 19.0\n",
      " >>  Чому маємо такий крок?\n",
      " >>  When `endpoint=True`, the step is smaller because the last value is included. When `endpoint=False`, the step is larger because the last value is excluded.\n"
     ]
    }
   ],
   "source": [
    "a = np.linspace(start, size_of_vec)\n",
    "print(f\"Згенерували {len(a)} чисел в діапазоні {a[0]} до {a[-1]}\")\n",
    "#print(f\"Власне числа: {a}\")\n",
    "homework(\"Виведіть кожне друге число згенерованого діапазону. Тут будее потрібен цикл :)\")\n",
    "for i in range(0, len(a), 2):\n",
    "    homework(a[i])\n",
    "\n",
    "print(\"Можна зменшити кількість чисел до 5:\")\n",
    "a = np.linspace(start, size_of_vec, 5)\n",
    "print(a)\n",
    "homework(\"Збільшіть кількість чисел до 100. Виведіть перших та останніх 10.\")\n",
    "a = np.linspace(start, size_of_vec, 100)\n",
    "homework(\"First 10 numbers:\", a[:10])\n",
    "homework(\"Last 10 numbers:\", a[-10:])\n",
    "\n",
    "\n",
    "print(\"\"\"Як бачимо перше та останнє значення завжди входять у згенерований діапазон. \n",
    "Відповідно при цьому вираховується крок.\n",
    "Це можна змінити, виключивши останнє значення з визначення діапазону.\n",
    "\"\"\")\n",
    "\n",
    "print(np.linspace(start, size_of_vec, 5, endpoint=False))\n",
    "homework(\"Спробуйте самі порахуавти крок.\")\n",
    "step = (size_of_vec - start) / (5 - 1)\n",
    "homework(f\"Calculated step: {step}\")\n",
    "\n",
    "\n",
    "_, sp_1 = np.linspace(start, size_of_vec, 5, endpoint=True, retstep=True)\n",
    "_, sp_2 = np.linspace(start, size_of_vec, 5, endpoint=False, retstep=True)\n",
    "print(f\"Для порівняння, ми можемо визначити крок автоматично, у нашому випадку це {sp_1} та {sp_2}\")\n",
    "homework(\"Чому маємо такий крок?\")\n",
    "homework(\"When `endpoint=True`, the step is smaller because the last value is included.\", \"When `endpoint=False`, the step is larger because the last value is excluded.\")\n"
   ]
  },
  {
   "cell_type": "code",
   "execution_count": null,
   "metadata": {},
   "outputs": [
    {
     "name": "stdout",
     "output_type": "stream",
     "text": [
      "Розглядаємо приклад з Скаляр. \n",
      "Значення x буде: \n",
      " 1\n",
      "Тип Скаляр x:  <class 'numpy.ndarray'>\n",
      "Розмірність/вимір Скаляр x: 0\n",
      "Форма Скаляр x:  ()\n",
      "Кількість елементів х: 1\n",
      "-=--=--=--=--=--=--=--=--=--=-\n",
      "Розглядаємо приклад з Вектор Рядок. \n",
      "Значення x буде: \n",
      " [1 2 3]\n",
      "Тип Вектор Рядок x:  <class 'numpy.ndarray'>\n",
      "Розмірність/вимір Вектор Рядок x: 1\n",
      "Форма Вектор Рядок x:  (3,)\n",
      "Кількість елементів х: 3\n",
      "-=--=--=--=--=--=--=--=--=--=-\n",
      "Розглядаємо приклад з Вектор Стовпець. \n",
      "Значення x буде: \n",
      " [[1]\n",
      " [2]\n",
      " [3]]\n",
      "Тип Вектор Стовпець x:  <class 'numpy.ndarray'>\n",
      "Розмірність/вимір Вектор Стовпець x: 2\n",
      "Форма Вектор Стовпець x:  (3, 1)\n",
      "Кількість елементів х: 3\n",
      "-=--=--=--=--=--=--=--=--=--=-\n",
      "Розглядаємо приклад з Матриця. \n",
      "Значення x буде: \n",
      " [[1 2]\n",
      " [3 4]\n",
      " [5 6]]\n",
      "Тип Матриця x:  <class 'numpy.ndarray'>\n",
      "Розмірність/вимір Матриця x: 2\n",
      "Форма Матриця x:  (3, 2)\n",
      "Кількість елементів х: 6\n",
      "-=--=--=--=--=--=--=--=--=--=-\n",
      "Розглядаємо приклад з Багатовимірна Матриця. \n",
      "Значення x буде: \n",
      " [[[111 112]\n",
      "  [121 122]]\n",
      "\n",
      " [[211 212]\n",
      "  [221 222]]\n",
      "\n",
      " [[311 312]\n",
      "  [321 322]]]\n",
      "Тип Багатовимірна Матриця x:  <class 'numpy.ndarray'>\n",
      "Розмірність/вимір Багатовимірна Матриця x: 3\n",
      "Форма Багатовимірна Матриця x:  (3, 2, 2)\n",
      "Кількість елементів х: 12\n",
      "-=--=--=--=--=--=--=--=--=--=-\n",
      " >>  Як Ви думаєте чому маємо такий результат для функції np.ndim (Розмірність/вимір/dimension).\n",
      "Чому значення для векторів та матриць однакове та не співпдає з значенням shape?\n",
      "Задайте власні вектори з різними числами.\n",
      " >>  np.ndim` gives the number of dimensions. Vectors and matrices can match because column vectors are 2D. `Shape` shows the size along each axis.\n"
     ]
    }
   ],
   "source": [
    "examples = {\n",
    "    'Скаляр': np.array(1), \n",
    "    'Вектор Рядок': np.array([1, 2, 3]), \n",
    "    'Вектор Стовпець': np.array([[1], [2], [3]]), \n",
    "    'Матриця': np.array([[1, 2],[3, 4], [5, 6]]),\n",
    "    'Багатовимірна Матриця': np.array([ [[111, 112], [121, 122]],\n",
    "                                        [[211, 212], [221, 222]],\n",
    "                                        [[311, 312], [321, 322]] ])\n",
    "    }\n",
    "for key in examples:\n",
    "    print(f\"Розглядаємо приклад з {key}. \\nЗначення x буде: \\n\", examples[key])\n",
    "    print(f\"Тип {key} x: \", type(examples[key]))\n",
    "    print(f\"Розмірність/вимір {key} x:\", np.ndim(examples[key]))\n",
    "    print(f\"Форма {key} x: \", examples[key].shape)\n",
    "    print(f\"Кількість елементів х: {np.size(examples[key])}\")\n",
    "    print(\"-=-\"*10)\n",
    "\n",
    "homework(\"\"\"Як Ви думаєте чому маємо такий результат для функції np.ndim (Розмірність/вимір/dimension).\n",
    "Чому значення для векторів та матриць однакове та не співпдає з значенням shape?\n",
    "Задайте власні вектори з різними числами.\"\"\")\n",
    "homework(\"np.ndim` gives the number of dimensions. Vectors and matrices can match because column vectors are 2D. `Shape` shows the size along each axis.\")\n",
    "\n"
   ]
  },
  {
   "cell_type": "markdown",
   "metadata": {},
   "source": [
    "An attempt to understand how large-scale matrices are organised"
   ]
  },
  {
   "cell_type": "code",
   "execution_count": null,
   "metadata": {},
   "outputs": [],
   "source": [
    "homework(f\"Створіть власні масиви з різною кількістю елементів та використайте метод shape для визначення їх вимірів.\")\n"
   ]
  },
  {
   "cell_type": "code",
   "execution_count": 27,
   "metadata": {},
   "outputs": [
    {
     "name": "stdout",
     "output_type": "stream",
     "text": [
      "[[[0.70170608 0.39116124 0.31915567]\n",
      "  [0.54244773 0.80960346 0.94137489]\n",
      "  [0.73449071 0.17211768 0.48708049]]\n",
      "\n",
      " [[0.8130651  0.06619065 0.94104671]\n",
      "  [0.07387085 0.80282911 0.46752963]\n",
      "  [0.58086041 0.00490842 0.50616455]]\n",
      "\n",
      " [[0.65266364 0.36161706 0.88900076]\n",
      "  [0.88217115 0.9575759  0.24298483]\n",
      "  [0.92273076 0.15997763 0.09919428]]]\n",
      "[[[[[0.24415299]]]]]\n",
      "[[[[0.29364237 0.13396042]]\n",
      "\n",
      "  [[0.01398272 0.40661408]]\n",
      "\n",
      "  [[0.75239987 0.20947456]]]\n",
      "\n",
      "\n",
      " [[[0.22617713 0.62782518]]\n",
      "\n",
      "  [[0.89277941 0.76984466]]\n",
      "\n",
      "  [[0.30057536 0.80361449]]]]\n"
     ]
    }
   ],
   "source": [
    "matrix3 = np.random.rand(3, 3, 3)\n",
    "matrix4 = np.random.rand(2, 3, 1, 2)\n",
    "matrix5 = np.random.rand(1, 1, 1, 1, 1)\n",
    "print(matrix3)\n",
    "print(matrix5)\n",
    "print(matrix4)"
   ]
  },
  {
   "cell_type": "code",
   "execution_count": 31,
   "metadata": {},
   "outputs": [
    {
     "name": "stdout",
     "output_type": "stream",
     "text": [
      " >>  Попрактикуйтесь доступатись до елементів, виведіть декілька елементів різними способами.\n",
      " >>  Matrix 3:\n",
      " >>  [[[0.70170608 0.39116124 0.31915567]\n",
      "  [0.54244773 0.80960346 0.94137489]\n",
      "  [0.73449071 0.17211768 0.48708049]]\n",
      "\n",
      " [[0.8130651  0.06619065 0.94104671]\n",
      "  [0.07387085 0.80282911 0.46752963]\n",
      "  [0.58086041 0.00490842 0.50616455]]\n",
      "\n",
      " [[0.65266364 0.36161706 0.88900076]\n",
      "  [0.88217115 0.9575759  0.24298483]\n",
      "  [0.92273076 0.15997763 0.09919428]]]\n",
      " >>  Shape of matrix: 3x3x3\n",
      " >>  Element at position [0, 1, 2]:\n",
      " >>  0.9413748907375498\n",
      " >>  All elements from the first layer:\n",
      " >>  [[0.70170608 0.39116124 0.31915567]\n",
      " [0.54244773 0.80960346 0.94137489]\n",
      " [0.73449071 0.17211768 0.48708049]]\n",
      " >>  First row of the second layer:\n",
      " >>  [0.8130651  0.06619065 0.94104671]\n",
      " >>  \n",
      "Matrix 4:\n",
      " >>  [[[[0.29364237 0.13396042]]\n",
      "\n",
      "  [[0.01398272 0.40661408]]\n",
      "\n",
      "  [[0.75239987 0.20947456]]]\n",
      "\n",
      "\n",
      " [[[0.22617713 0.62782518]]\n",
      "\n",
      "  [[0.89277941 0.76984466]]\n",
      "\n",
      "  [[0.30057536 0.80361449]]]]\n",
      " >>  Shape of matrix: 2x3x1x2\n",
      " >>  Element at position [1, 2, 0, 1]:\n",
      " >>  0.8036144884267695\n",
      " >>  Elements from the second layer for the first and second dimensions:\n",
      " >>  [[0.22617713 0.62782518]\n",
      " [0.89277941 0.76984466]\n",
      " [0.30057536 0.80361449]]\n",
      " >>  \n",
      "Matrix 5:\n",
      " >>  [[[[[0.24415299]]]]]\n",
      " >>  Shape of matrix: 1x1x1x1x1\n",
      " >>  Number of elements in matrix5:\n",
      " >>  1\n"
     ]
    }
   ],
   "source": [
    "homework(\"Попрактикуйтесь доступатись до елементів, виведіть декілька елементів різними способами.\")\n",
    "\n",
    "print_shape = lambda matrix: homework(f\"Shape of matrix: {'x'.join(map(str, matrix.shape))}\")\n",
    "\n",
    "homework(\"Matrix 3:\")\n",
    "homework(matrix3)\n",
    "print_shape(matrix3)\n",
    "homework(\"Element at position [0, 1, 2]:\")\n",
    "homework(matrix3[0, 1, 2])\n",
    "homework(\"All elements from the first layer:\")\n",
    "homework(matrix3[0])\n",
    "homework(\"First row of the second layer:\")\n",
    "homework(matrix3[1, 0])\n",
    "\n",
    "homework(\"\\nMatrix 4:\")\n",
    "homework(matrix4)\n",
    "print_shape(matrix4)\n",
    "homework(\"Element at position [1, 2, 0, 1]:\")\n",
    "homework(matrix4[1, 2, 0, 1])\n",
    "homework(\"Elements from the second layer for the first and second dimensions:\")\n",
    "homework(matrix4[1, :, 0, :])\n",
    "\n",
    "homework(\"\\nMatrix 5:\")\n",
    "homework(matrix5)\n",
    "print_shape(matrix5)\n",
    "homework(\"Number of elements in matrix5:\")\n",
    "homework(np.size(matrix5))\n",
    "\n",
    "\n",
    "\n"
   ]
  },
  {
   "cell_type": "code",
   "execution_count": 35,
   "metadata": {},
   "outputs": [
    {
     "name": "stdout",
     "output_type": "stream",
     "text": [
      " >>  Попрактикуйтесь в доступі до багатовимірного масиву, виведіть елементів які належать діагоналі.\n",
      " >>  3.4\n",
      " >>  -7.8\n",
      " >>  4.8\n"
     ]
    }
   ],
   "source": [
    "A = np.array([ [3.4, 8.7, 9.9], \n",
    "               [1.1, -7.8, -0.7],\n",
    "               [4.1, 12.3, 4.8],\n",
    "               [7.0, -3.9, 5.1]])\n",
    "homework(\"Попрактикуйтесь в доступі до багатовимірного масиву, виведіть елементів які належать діагоналі.\")\n",
    "for i in range(min(A.shape)):  \n",
    "    homework(A[i, i])  "
   ]
  },
  {
   "cell_type": "code",
   "execution_count": 34,
   "metadata": {},
   "outputs": [
    {
     "name": "stdout",
     "output_type": "stream",
     "text": [
      " >>  Попрактикуйтесь у витягуванні елементів, візьміть 4 значення з кінця масиву.\n",
      " >>  [6 7 8 9]\n"
     ]
    }
   ],
   "source": [
    "S = np.array([0, 1, 2, 3, 4, 5, 6, 7, 8, 9])\n",
    "homework(\"Попрактикуйтесь у витягуванні елементів, візьміть 4 значення з кінця масиву.\")\n",
    "homework(S[-4:])"
   ]
  },
  {
   "cell_type": "code",
   "execution_count": 36,
   "metadata": {},
   "outputs": [
    {
     "name": "stdout",
     "output_type": "stream",
     "text": [
      " >>  Попрактикуйтесь у витягуванні елементів, візьміть матрицю 2х2 з нижнього та верхнього кутка матриці А.\n",
      " >>  Top-left 2x2 submatrix:\n",
      "[[11 12]\n",
      " [21 22]]\n",
      " >>  Bottom_right 2x2 submatrix:\n",
      "[[44 45]\n",
      " [54 55]]\n"
     ]
    }
   ],
   "source": [
    "A = np.array([\n",
    "[11, 12, 13, 14, 15],\n",
    "[21, 22, 23, 24, 25],\n",
    "[31, 32, 33, 34, 35],\n",
    "[41, 42, 43, 44, 45],\n",
    "[51, 52, 53, 54, 55]])\n",
    "homework(\"Попрактикуйтесь у витягуванні елементів, візьміть матрицю 2х2 з нижнього та верхнього кутка матриці А.\")\n",
    "top_left = A[:2, :2]  \n",
    "bottom_right = A[-2:, -2:]\n",
    "homework(f\"Top-left 2x2 submatrix:\\n{top_left}\")\n",
    "homework(f\"Bottom_right 2x2 submatrix:\\n{bottom_right}\")\n"
   ]
  },
  {
   "cell_type": "code",
   "execution_count": 40,
   "metadata": {},
   "outputs": [
    {
     "name": "stdout",
     "output_type": "stream",
     "text": [
      " >>  Попрактикуйтесь у витягуванні елементів, будь-яка робоча комбінація.\n",
      "[[ 0  1  2  3  4  5  6]\n",
      " [ 7  8  9 10 11 12 13]\n",
      " [14 15 16 17 18 19 20]\n",
      " [21 22 23 24 25 26 27]]\n",
      " >>  Every second element from index 6 in the first row: [6]\n",
      " >>  Every third element from index 9 in the first row: []\n",
      " >>  Starting from index 6, every third element in the first row: [6]\n",
      " >>  Rows with index 6 and 9: [[0 1 2 3 4 5 6]]\n",
      " >>  2x2 submatrix starting from (6,6) to (9,9): []\n",
      " >>  2x2 submatrix from (6,6) with step 2: []\n",
      " >>  Second and fourth row (indices 6 and 9): [[ 0  1  2  3  4  5  6]\n",
      " [21 22 23 24 25 26 27]]\n",
      " >>  Last 3 elements starting from index 6: [[ 6]\n",
      " [13]\n",
      " [20]\n",
      " [27]]\n",
      " >>  Reversed rows and columns, including elements with indices 6 and 9: [[27 26 25 24 23 22 21]\n",
      " [20 19 18 17 16 15 14]\n",
      " [13 12 11 10  9  8  7]\n",
      " [ 6  5  4  3  2  1  0]]\n"
     ]
    }
   ],
   "source": [
    "A = np.arange(28).reshape(4, 7)\n",
    "\n",
    "homework(\"Попрактикуйтесь у витягуванні елементів, будь-яка робоча комбінація.\")\n",
    "print(A)\n",
    "homework(f\"Every second element from index 6 in the first row: {A[0, 6::2]}\")\n",
    "homework(f\"Every third element from index 9 in the first row: {A[0, 9::3]}\")\n",
    "homework(f\"Starting from index 6, every third element in the first row: {A[0, 6::3]}\")\n",
    "homework(f\"Rows with index 6 and 9: {A[::6, ::]}\")\n",
    "homework(f\"2x2 submatrix starting from (6,6) to (9,9): {A[6:8, 6:8]}\")\n",
    "homework(f\"2x2 submatrix from (6,6) with step 2: {A[6::2, 6::2]}\")\n",
    "homework(f\"Second and fourth row (indices 6 and 9): {A[::3, :]}\")\n",
    "homework(f\"Last 3 elements starting from index 6: {A[:, 6:9]}\")\n",
    "homework(f\"Reversed rows and columns, including elements with indices 6 and 9: {A[::-1, ::-1]}\")\n"
   ]
  },
  {
   "cell_type": "code",
   "execution_count": null,
   "metadata": {},
   "outputs": [
    {
     "name": "stdout",
     "output_type": "stream",
     "text": [
      " >>  Виведіть всі непарні числа з даного масиву.\n",
      " >>  All odd numbers in the array: [ 1  3  5  7  9 11 13 15 17 19 21 23 25 27 29 31 33 35 37 39 41 43 45 47\n",
      " 49]\n",
      " >>  All odd numbers in the array: [ 1  3  5  7  9 11 13 15 17 19 21 23 25 27 29 31 33 35 37 39 41 43 45 47\n",
      " 49]\n"
     ]
    }
   ],
   "source": [
    "A = np.arange(50)\n",
    "homework(\"Виведіть всі непарні числа з даного масиву.\")\n",
    "homework(f\"All odd numbers in the array: {A[A % 2 != 0]}\")"
   ]
  }
 ],
 "metadata": {
  "kernelspec": {
   "display_name": "Python 3",
   "language": "python",
   "name": "python3"
  },
  "language_info": {
   "codemirror_mode": {
    "name": "ipython",
    "version": 3
   },
   "file_extension": ".py",
   "mimetype": "text/x-python",
   "name": "python",
   "nbconvert_exporter": "python",
   "pygments_lexer": "ipython3",
   "version": "3.13.0"
  }
 },
 "nbformat": 4,
 "nbformat_minor": 2
}
